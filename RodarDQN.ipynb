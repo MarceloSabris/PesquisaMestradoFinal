{
 "cells": [
  {
   "cell_type": "code",
   "execution_count": 1,
   "metadata": {},
   "outputs": [],
   "source": [
    "\n",
    "import tensorflow as tf\n",
    "import tf_slim as slim\n",
    "import numpy as np\n",
    "import argparse\n",
    "import os\n",
    "import random\n",
    "import time\n",
    "import Trainer\n",
    "import sort_of_clevr as DataSetClevr \n",
    "from input_ops import create_input_ops\n",
    "import DataBase as db\n",
    "import TrainerExecutionJupter as trExecution1\n",
    "import sys \n",
    "sys.path.append('d:\\\\source\\\\PesquisaMestradoFinal\\\\')"
   ]
  },
  {
   "cell_type": "code",
   "execution_count": 2,
   "metadata": {},
   "outputs": [
    {
     "ename": "NameError",
     "evalue": "name 'ConfigTrainJupter' is not defined",
     "output_type": "error",
     "traceback": [
      "\u001b[1;31m---------------------------------------------------------------------------\u001b[0m",
      "\u001b[1;31mNameError\u001b[0m                                 Traceback (most recent call last)",
      "Cell \u001b[1;32mIn[2], line 1\u001b[0m\n\u001b[1;32m----> 1\u001b[0m config \u001b[38;5;241m=\u001b[39m \u001b[43mConfigTrainJupter\u001b[49m()\n\u001b[0;32m      2\u001b[0m trainer \u001b[38;5;241m=\u001b[39m \u001b[38;5;124m\"\u001b[39m\u001b[38;5;124m\"\u001b[39m\n\u001b[0;32m      3\u001b[0m trainer \u001b[38;5;241m=\u001b[39m GernerateTrainner(config,trainer)\n",
      "\u001b[1;31mNameError\u001b[0m: name 'ConfigTrainJupter' is not defined"
     ]
    }
   ],
   "source": [
    "config = ConfigTrainJupter()\n",
    "trainer = \"\"\n",
    "trainer = GernerateTrainner(config,trainer)\n",
    "RunAction(1,config,trainer)\n"
   ]
  },
  {
   "cell_type": "markdown",
   "metadata": {},
   "source": []
  }
 ],
 "metadata": {
  "kernelspec": {
   "display_name": "Python 3",
   "language": "python",
   "name": "python3"
  },
  "language_info": {
   "codemirror_mode": {
    "name": "ipython",
    "version": 3
   },
   "file_extension": ".py",
   "mimetype": "text/x-python",
   "name": "python",
   "nbconvert_exporter": "python",
   "pygments_lexer": "ipython3",
   "version": "3.10.11"
  }
 },
 "nbformat": 4,
 "nbformat_minor": 2
}
